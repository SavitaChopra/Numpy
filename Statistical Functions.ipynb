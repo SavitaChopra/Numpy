{
 "cells": [
  {
   "cell_type": "code",
   "execution_count": 3,
   "id": "a1dcc7ae-74ff-429b-9ed7-20e30d686c23",
   "metadata": {},
   "outputs": [
    {
     "name": "stdout",
     "output_type": "stream",
     "text": [
      "['Apples' 'Bananas' 'Carrots' 'Tomatoes' 'Potatoes' 'Onions' 'Broccoli'\n",
      " 'Spinach' 'Milk' 'Eggs' 'Bread' 'Chicken Breast' 'Ground Beef' 'Salmon'\n",
      " 'Yogurt' 'Cheese' 'Orange Juice' 'Coffee' 'Rice' 'Pasta']\n",
      "[ 1.99  0.59  0.89  2.49  1.29  0.79  2.19  1.99  3.49  2.99  2.49  5.99\n",
      "  6.99 10.99  0.99  4.49  3.99  9.99  1.49  1.29]\n",
      "[150 200 250 180 300 270 130 220 190 160  80  60  50  40 300 230 120  70\n",
      " 500 450]\n"
     ]
    }
   ],
   "source": [
    "import numpy as np\n",
    "data = np.genfromtxt(\"grocery.csv\", delimiter = \",\", dtype = None , encoding = \"utf-8\",skip_header = 1 )\n",
    "products = data[\"f0\"]\n",
    "price = data[\"f1\"]\n",
    "quantity = data['f2']\n",
    "print(products)\n",
    "print(price)\n",
    "print(quantity)\n",
    "\n"
   ]
  },
  {
   "cell_type": "code",
   "execution_count": 5,
   "id": "a88c033b-386a-4143-83d0-49e825e6a2a7",
   "metadata": {},
   "outputs": [
    {
     "data": {
      "text/plain": [
       "197.5"
      ]
     },
     "execution_count": 5,
     "metadata": {},
     "output_type": "execute_result"
    }
   ],
   "source": [
    "np.mean(quantity)"
   ]
  },
  {
   "cell_type": "code",
   "execution_count": 6,
   "id": "d837e980-756e-4892-9ac9-2365aa71d423",
   "metadata": {},
   "outputs": [
    {
     "data": {
      "text/plain": [
       "185.0"
      ]
     },
     "execution_count": 6,
     "metadata": {},
     "output_type": "execute_result"
    }
   ],
   "source": [
    "np.median(quantity)"
   ]
  },
  {
   "cell_type": "code",
   "execution_count": 8,
   "id": "897350e3-f0fd-4eaa-a480-13b216b9c1d5",
   "metadata": {},
   "outputs": [
    {
     "name": "stdout",
     "output_type": "stream",
     "text": [
      "300\n"
     ]
    }
   ],
   "source": [
    "import statistics as stats\n",
    "print(stats.mode(quantity))"
   ]
  },
  {
   "cell_type": "code",
   "execution_count": 9,
   "id": "0eb6298f-e902-4fcd-9de3-84456597e464",
   "metadata": {},
   "outputs": [
    {
     "data": {
      "text/plain": [
       "40"
      ]
     },
     "execution_count": 9,
     "metadata": {},
     "output_type": "execute_result"
    }
   ],
   "source": [
    "np.min(quantity)"
   ]
  },
  {
   "cell_type": "code",
   "execution_count": 10,
   "id": "a63e57bf-83a2-4926-b22f-8ddf7a2de689",
   "metadata": {},
   "outputs": [
    {
     "data": {
      "text/plain": [
       "500"
      ]
     },
     "execution_count": 10,
     "metadata": {},
     "output_type": "execute_result"
    }
   ],
   "source": [
    "np.max(quantity)"
   ]
  },
  {
   "cell_type": "code",
   "execution_count": 11,
   "id": "2500d012-e702-46e2-91cc-63037dd3f705",
   "metadata": {},
   "outputs": [
    {
     "data": {
      "text/plain": [
       "460"
      ]
     },
     "execution_count": 11,
     "metadata": {},
     "output_type": "execute_result"
    }
   ],
   "source": [
    "np.ptp(quantity) #peak to peak"
   ]
  },
  {
   "cell_type": "code",
   "execution_count": 13,
   "id": "90e2b6f5-a77d-4198-b9d9-1a7fa8e4f279",
   "metadata": {},
   "outputs": [
    {
     "data": {
      "text/plain": [
       "14798.75"
      ]
     },
     "execution_count": 13,
     "metadata": {},
     "output_type": "execute_result"
    }
   ],
   "source": [
    "np.var(quantity)"
   ]
  },
  {
   "cell_type": "code",
   "execution_count": 14,
   "id": "23a6b82d-ee24-4ab1-b270-25d6e4fae436",
   "metadata": {},
   "outputs": [
    {
     "data": {
      "text/plain": [
       "121.65011302912957"
      ]
     },
     "execution_count": 14,
     "metadata": {},
     "output_type": "execute_result"
    }
   ],
   "source": [
    "np.std(quantity)"
   ]
  },
  {
   "cell_type": "code",
   "execution_count": 19,
   "id": "2d9858e4-d1a8-4810-83c8-b47d94b46958",
   "metadata": {},
   "outputs": [
    {
     "data": {
      "text/plain": [
       "185.0"
      ]
     },
     "execution_count": 19,
     "metadata": {},
     "output_type": "execute_result"
    }
   ],
   "source": [
    "np.percentile(quantity, 50)"
   ]
  },
  {
   "cell_type": "code",
   "execution_count": 20,
   "id": "1b630baa-3a1e-4c47-ab4a-18e47be59650",
   "metadata": {},
   "outputs": [
    {
     "data": {
      "text/plain": [
       "185.0"
      ]
     },
     "execution_count": 20,
     "metadata": {},
     "output_type": "execute_result"
    }
   ],
   "source": [
    "np.quantile(quantity, 0.5)"
   ]
  },
  {
   "cell_type": "code",
   "execution_count": 22,
   "id": "e050173b-8932-422f-b1b0-994a295921a6",
   "metadata": {},
   "outputs": [
    {
     "data": {
      "text/plain": [
       "array([[ 1.        , -0.64783916],\n",
       "       [-0.64783916,  1.        ]])"
      ]
     },
     "execution_count": 22,
     "metadata": {},
     "output_type": "execute_result"
    }
   ],
   "source": [
    "np.corrcoef(price, quantity)"
   ]
  },
  {
   "cell_type": "code",
   "execution_count": 24,
   "id": "ca15417d-84c9-431c-aba2-ba0e406d46c4",
   "metadata": {},
   "outputs": [
    {
     "data": {
      "text/plain": [
       "array([[ 8.5, 10.5],\n",
       "       [10.5, 13.3]])"
      ]
     },
     "execution_count": 24,
     "metadata": {},
     "output_type": "execute_result"
    }
   ],
   "source": [
    "stock_a = [100, 102, 101, 105, 107]\n",
    "stock_b = [78, 80, 79, 85, 86]\n",
    "\n",
    "a = np.array(stock_a)\n",
    "b = np.array(stock_b)\n",
    "\n",
    "np.cov(a,b)"
   ]
  }
 ],
 "metadata": {
  "kernelspec": {
   "display_name": "Python 3 (ipykernel)",
   "language": "python",
   "name": "python3"
  },
  "language_info": {
   "codemirror_mode": {
    "name": "ipython",
    "version": 3
   },
   "file_extension": ".py",
   "mimetype": "text/x-python",
   "name": "python",
   "nbconvert_exporter": "python",
   "pygments_lexer": "ipython3",
   "version": "3.12.3"
  }
 },
 "nbformat": 4,
 "nbformat_minor": 5
}
