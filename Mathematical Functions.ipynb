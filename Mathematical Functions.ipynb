{
 "cells": [
  {
   "cell_type": "code",
   "execution_count": 1,
   "id": "d38ec70d-5890-4c6f-9a1a-5340ec40593c",
   "metadata": {},
   "outputs": [
    {
     "name": "stdout",
     "output_type": "stream",
     "text": [
      "[ 6  8 10 12]\n"
     ]
    }
   ],
   "source": [
    "import numpy as np\n",
    "\n",
    "arr = np.array([2,3,4,5])\n",
    "arr1 = np.array([4,5,6,7])\n",
    "\n",
    "print(np.add(arr, arr1))"
   ]
  },
  {
   "cell_type": "code",
   "execution_count": 2,
   "id": "547040c8-0daf-4180-901f-715c94ba55f7",
   "metadata": {},
   "outputs": [
    {
     "data": {
      "text/plain": [
       "array([-2, -2, -2, -2])"
      ]
     },
     "execution_count": 2,
     "metadata": {},
     "output_type": "execute_result"
    }
   ],
   "source": [
    "np.subtract(arr,arr1)"
   ]
  },
  {
   "cell_type": "code",
   "execution_count": 3,
   "id": "a671409d-2c36-4d10-85f3-d4dc87befb00",
   "metadata": {},
   "outputs": [
    {
     "data": {
      "text/plain": [
       "array([ 8, 15, 24, 35])"
      ]
     },
     "execution_count": 3,
     "metadata": {},
     "output_type": "execute_result"
    }
   ],
   "source": [
    "np.multiply(arr, arr1)"
   ]
  },
  {
   "cell_type": "code",
   "execution_count": 4,
   "id": "900d2eb8-41fd-4020-a342-8d4bb2516e85",
   "metadata": {},
   "outputs": [
    {
     "data": {
      "text/plain": [
       "array([0.5       , 0.6       , 0.66666667, 0.71428571])"
      ]
     },
     "execution_count": 4,
     "metadata": {},
     "output_type": "execute_result"
    }
   ],
   "source": [
    "np.divide(arr,arr1)"
   ]
  },
  {
   "cell_type": "code",
   "execution_count": 5,
   "id": "a1e545a7-1836-47dd-bc92-936ba5123c73",
   "metadata": {},
   "outputs": [
    {
     "data": {
      "text/plain": [
       "array([   16,   243,  4096, 78125])"
      ]
     },
     "execution_count": 5,
     "metadata": {},
     "output_type": "execute_result"
    }
   ],
   "source": [
    "np.power(arr,arr1)"
   ]
  },
  {
   "cell_type": "code",
   "execution_count": 9,
   "id": "32f1e372-6637-4be0-999d-5d2c99a7fdbd",
   "metadata": {},
   "outputs": [
    {
     "name": "stdout",
     "output_type": "stream",
     "text": [
      "['Apples' 'Bananas' 'Carrots' 'Tomatoes' 'Potatoes' 'Onions' 'Broccoli'\n",
      " 'Spinach' 'Milk' 'Eggs' 'Bread' 'Chicken Breast' 'Ground Beef' 'Salmon'\n",
      " 'Yogurt' 'Cheese' 'Orange Juice' 'Coffee' 'Rice' 'Pasta']\n",
      "[ 1.99  0.59  0.89  2.49  1.29  0.79  2.19  1.99  3.49  2.99  2.49  5.99\n",
      "  6.99 10.99  0.99  4.49  3.99  9.99  1.49  1.29]\n",
      "[150 200 250 180 300 270 130 220 190 160  80  60  50  40 300 230 120  70\n",
      " 500 450]\n"
     ]
    }
   ],
   "source": [
    "data = np.genfromtxt(\"grocery.csv\", delimiter = \",\", dtype = None , encoding = \"utf-8\",skip_header = 1 )\n",
    "products = data[\"f0\"]\n",
    "price = data[\"f1\"]\n",
    "quantity = data['f2']\n",
    "print(products)\n",
    "print(price)\n",
    "print(quantity)"
   ]
  },
  {
   "cell_type": "code",
   "execution_count": 10,
   "id": "9bf48e7d-5262-45e4-a755-9db6528d06d2",
   "metadata": {},
   "outputs": [
    {
     "data": {
      "text/plain": [
       "3950"
      ]
     },
     "execution_count": 10,
     "metadata": {},
     "output_type": "execute_result"
    }
   ],
   "source": [
    "np.sum(quantity)"
   ]
  },
  {
   "cell_type": "code",
   "execution_count": 11,
   "id": "0837bd8e-ec8a-4d3f-b176-c83ccdfe6038",
   "metadata": {},
   "outputs": [
    {
     "name": "stdout",
     "output_type": "stream",
     "text": [
      "[2 3 4 5]\n",
      "[4 5 6 7]\n"
     ]
    }
   ],
   "source": [
    "print(arr)\n",
    "print(arr1)"
   ]
  },
  {
   "cell_type": "code",
   "execution_count": 13,
   "id": "c09d17f0-ef02-4dd7-bcd2-89e2f5912715",
   "metadata": {},
   "outputs": [
    {
     "data": {
      "text/plain": [
       "array([ 6,  8, 10, 12])"
      ]
     },
     "execution_count": 13,
     "metadata": {},
     "output_type": "execute_result"
    }
   ],
   "source": [
    "np.sum([arr, arr1], axis = 0)"
   ]
  },
  {
   "cell_type": "code",
   "execution_count": 15,
   "id": "3b92e561-e968-42a5-9275-e09613c17600",
   "metadata": {},
   "outputs": [
    {
     "data": {
      "text/plain": [
       "array([  67.4, 3950. ])"
      ]
     },
     "execution_count": 15,
     "metadata": {},
     "output_type": "execute_result"
    }
   ],
   "source": [
    "np.sum([price, quantity], axis =  1) "
   ]
  },
  {
   "cell_type": "code",
   "execution_count": null,
   "id": "655fe38d-dd96-40e8-9579-43e067150aee",
   "metadata": {},
   "outputs": [],
   "source": [
    "#axis 1 = vertical \n",
    "#axis 0 = horizontal"
   ]
  },
  {
   "cell_type": "code",
   "execution_count": 16,
   "id": "f0719fc2-bed2-4dde-910e-2701a283616e",
   "metadata": {},
   "outputs": [
    {
     "name": "stdout",
     "output_type": "stream",
     "text": [
      "[ 1.99  0.59  0.89  2.49  1.29  0.79  2.19  1.99  3.49  2.99  2.49  5.99\n",
      "  6.99 10.99  0.99  4.49  3.99  9.99  1.49  1.29]\n",
      "[150 200 250 180 300 270 130 220 190 160  80  60  50  40 300 230 120  70\n",
      " 500 450]\n"
     ]
    }
   ],
   "source": [
    "print(price)\n",
    "print(quantity)"
   ]
  },
  {
   "cell_type": "code",
   "execution_count": 17,
   "id": "7bef2209-0c8a-4643-a729-3f04246bee3d",
   "metadata": {},
   "outputs": [
    {
     "name": "stdout",
     "output_type": "stream",
     "text": [
      "[ 298.5  118.   222.5  448.2  387.   213.3  284.7  437.8  663.1  478.4\n",
      "  199.2  359.4  349.5  439.6  297.  1032.7  478.8  699.3  745.   580.5]\n"
     ]
    }
   ],
   "source": [
    "sales = np.product([price, quantity], axis = 0)\n",
    "print(sales)"
   ]
  },
  {
   "cell_type": "code",
   "execution_count": 18,
   "id": "d9c2e6ff-2001-47b1-b00b-25c02fb81d90",
   "metadata": {},
   "outputs": [
    {
     "data": {
      "text/plain": [
       "array([ 298.5,  416.5,  639. , 1087.2, 1474.2, 1687.5, 1972.2, 2410. ,\n",
       "       3073.1, 3551.5, 3750.7, 4110.1, 4459.6, 4899.2, 5196.2, 6228.9,\n",
       "       6707.7, 7407. , 8152. , 8732.5])"
      ]
     },
     "execution_count": 18,
     "metadata": {},
     "output_type": "execute_result"
    }
   ],
   "source": [
    "np.cumsum(sales)"
   ]
  },
  {
   "cell_type": "code",
   "execution_count": null,
   "id": "5bcd6c78-84b6-40d6-8150-80139b45b974",
   "metadata": {},
   "outputs": [],
   "source": []
  }
 ],
 "metadata": {
  "kernelspec": {
   "display_name": "Python 3 (ipykernel)",
   "language": "python",
   "name": "python3"
  },
  "language_info": {
   "codemirror_mode": {
    "name": "ipython",
    "version": 3
   },
   "file_extension": ".py",
   "mimetype": "text/x-python",
   "name": "python",
   "nbconvert_exporter": "python",
   "pygments_lexer": "ipython3",
   "version": "3.12.3"
  }
 },
 "nbformat": 4,
 "nbformat_minor": 5
}
