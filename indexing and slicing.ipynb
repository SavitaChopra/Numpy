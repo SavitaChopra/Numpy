{
 "cells": [
  {
   "cell_type": "code",
   "execution_count": 6,
   "id": "5b9210b3-a3d1-430c-bab5-03b8da5e96cd",
   "metadata": {},
   "outputs": [
    {
     "name": "stdout",
     "output_type": "stream",
     "text": [
      "6\n"
     ]
    }
   ],
   "source": [
    "#Indexing\n",
    "import numpy as np\n",
    "arr = np.array([3,4,5,6,7,8])\n",
    "print(arr[3])"
   ]
  },
  {
   "cell_type": "code",
   "execution_count": 13,
   "id": "eae026ba-bf86-4bac-a3dc-81282001a7ff",
   "metadata": {},
   "outputs": [
    {
     "data": {
      "text/plain": [
       "5"
      ]
     },
     "execution_count": 13,
     "metadata": {},
     "output_type": "execute_result"
    }
   ],
   "source": [
    "arr = np.array([[3,4,5],[6,8,7]])\n",
    "arr[0][2]"
   ]
  },
  {
   "cell_type": "code",
   "execution_count": 25,
   "id": "12842edb-bf3e-47e1-a863-816ae4f13568",
   "metadata": {},
   "outputs": [
    {
     "name": "stdout",
     "output_type": "stream",
     "text": [
      "3\n",
      "7\n"
     ]
    }
   ],
   "source": [
    "arr = np.array([[[3,4,5],[7,7,7]],[[4,5,3],[6,5,1]]])\n",
    "print(arr[1][0][2])\n",
    "print(arr[0][1][0])\n"
   ]
  },
  {
   "cell_type": "code",
   "execution_count": 26,
   "id": "42f14d0d-5be0-40a7-855a-727ab5ddca28",
   "metadata": {},
   "outputs": [
    {
     "data": {
      "text/plain": [
       "array([3, 4, 5])"
      ]
     },
     "execution_count": 26,
     "metadata": {},
     "output_type": "execute_result"
    }
   ],
   "source": [
    "#slicing\n",
    "\n",
    "arr = np.array([3,4,5,6,7,8])\n",
    "arr[:3]"
   ]
  },
  {
   "cell_type": "code",
   "execution_count": 31,
   "id": "55eb28c9-75fc-4c9f-9c91-bdb8b758dec0",
   "metadata": {},
   "outputs": [
    {
     "data": {
      "text/plain": [
       "array([[3, 5],\n",
       "       [6, 7]])"
      ]
     },
     "execution_count": 31,
     "metadata": {},
     "output_type": "execute_result"
    }
   ],
   "source": [
    "arr = np.array([[3,4,5],[6,8,7]])\n",
    "\n",
    "arr[0:, ::2]"
   ]
  },
  {
   "cell_type": "code",
   "execution_count": 36,
   "id": "10cc45b3-3c74-4760-99e1-abe8c7a27805",
   "metadata": {},
   "outputs": [
    {
     "data": {
      "text/plain": [
       "array([[5, 7],\n",
       "       [3, 1]])"
      ]
     },
     "execution_count": 36,
     "metadata": {},
     "output_type": "execute_result"
    }
   ],
   "source": [
    "arr = np.array([[[3,4,5],[7,7,7]],[[4,5,3],[6,5,1]]])\n",
    "arr[0:, 0:, 2]"
   ]
  }
 ],
 "metadata": {
  "kernelspec": {
   "display_name": "Python 3 (ipykernel)",
   "language": "python",
   "name": "python3"
  },
  "language_info": {
   "codemirror_mode": {
    "name": "ipython",
    "version": 3
   },
   "file_extension": ".py",
   "mimetype": "text/x-python",
   "name": "python",
   "nbconvert_exporter": "python",
   "pygments_lexer": "ipython3",
   "version": "3.12.3"
  }
 },
 "nbformat": 4,
 "nbformat_minor": 5
}
