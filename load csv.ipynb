{
 "cells": [
  {
   "cell_type": "code",
   "execution_count": 12,
   "id": "bf866bdc-0b8d-4527-a0f6-8e37eab8e5e3",
   "metadata": {},
   "outputs": [
    {
     "name": "stdout",
     "output_type": "stream",
     "text": [
      "[[3 4 4]\n",
      " [4 5 8]]\n",
      "2\n",
      "(2, 3)\n",
      "6\n",
      "2\n",
      "int32\n"
     ]
    }
   ],
   "source": [
    "import numpy as np\n",
    "\n",
    "arr = np.array([[3,4,4],[4,5,8]])\n",
    "print(arr)\n",
    "print(arr.ndim)\n",
    "print(arr.shape)\n",
    "print(arr.size)\n",
    "print(len(arr))\n",
    "print(arr.dtype)"
   ]
  },
  {
   "cell_type": "code",
   "execution_count": 29,
   "id": "2eeeb04d-b91c-4d27-b27f-531c7a305653",
   "metadata": {},
   "outputs": [
    {
     "name": "stdout",
     "output_type": "stream",
     "text": [
      "['Apples' 'Bananas' 'Carrots' 'Tomatoes' 'Potatoes' 'Onions' 'Broccoli'\n",
      " 'Spinach' 'Milk' 'Eggs' 'Bread' 'Chicken Breast' 'Ground Beef' 'Salmon'\n",
      " 'Yogurt' 'Cheese' 'Orange Juice' 'Coffee' 'Rice' 'Pasta']\n",
      "[ 1.99  0.59  0.89  2.49  1.29  0.79  2.19  1.99  3.49  2.99  2.49  5.99\n",
      "  6.99 10.99  0.99  4.49  3.99  9.99  1.49  1.29]\n",
      "[150 200 250 180 300 270 130 220 190 160  80  60  50  40 300 230 120  70\n",
      " 500 450]\n",
      "20\n"
     ]
    }
   ],
   "source": [
    "data = np.genfromtxt(\"grocery.csv\", delimiter = \",\", dtype = None , encoding = \"utf-8\",skip_header = 1 )\n",
    "products = data[\"f0\"]\n",
    "price = data[\"f1\"]\n",
    "quantity = data['f2']\n",
    "print(products)\n",
    "print(price)\n",
    "print(quantity)\n",
    "\n",
    "print(price.size)"
   ]
  }
 ],
 "metadata": {
  "kernelspec": {
   "display_name": "Python 3 (ipykernel)",
   "language": "python",
   "name": "python3"
  },
  "language_info": {
   "codemirror_mode": {
    "name": "ipython",
    "version": 3
   },
   "file_extension": ".py",
   "mimetype": "text/x-python",
   "name": "python",
   "nbconvert_exporter": "python",
   "pygments_lexer": "ipython3",
   "version": "3.12.3"
  }
 },
 "nbformat": 4,
 "nbformat_minor": 5
}
